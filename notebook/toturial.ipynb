{
 "cells": [
  {
   "cell_type": "code",
   "execution_count": null,
   "metadata": {},
   "outputs": [],
   "source": [
    "import pandas as pd\n",
    "import numpy as np\n",
    "import random\n",
    "import matplotlib.pyplot as plt\n",
    "import re\n",
    "import os\n",
    "import glob\n",
    "import datetime\n",
    "from datetime import datetime as dat\n",
    "import jdatetime\n",
    "from jdatetime import datetime as jdt\n",
    "from numpy import random as nprnd\n",
    "import persiantools\n",
    "from persiantools import characters\n",
    "import luigi\n",
    "import networkx as nx\n",
    "from pyvis.network import Network\n",
    "from networkx import NetworkXError\n",
    "from networkx import bipartite\n",
    "import networkx.algorithms.connectivity as nxcon\n",
    "import math\n",
    "import networkx.algorithms.community as nxcom\n",
    "import itertools\n",
    "import math\n",
    "import time"
   ]
  },
  {
   "cell_type": "markdown",
   "metadata": {},
   "source": [
    "# Default measuers"
   ]
  },
  {
   "cell_type": "code",
   "execution_count": null,
   "metadata": {},
   "outputs": [],
   "source": [
    "%matplotlib inline\n",
    "plt.rcParams.update({\n",
    "    'figure.figsize': (7.5, 7.5),\n",
    "    'axes.spines.right': False,\n",
    "    'axes.spines.left': False,\n",
    "    'axes.spines.top': False,\n",
    "    'axes.spines.bottom': False})"
   ]
  },
  {
   "cell_type": "code",
   "execution_count": null,
   "metadata": {},
   "outputs": [],
   "source": [
    "seed= hash(\"Netswork Science in python\")%2**32\n",
    "nprnd.seed(seed=seed)\n",
    "random.seed(seed)"
   ]
  },
  {
   "cell_type": "markdown",
   "metadata": {},
   "source": [
    "# NetworkX"
   ]
  },
  {
   "cell_type": "markdown",
   "metadata": {},
   "source": [
    "## Undirected Graph"
   ]
  },
  {
   "cell_type": "markdown",
   "metadata": {},
   "source": [
    "### Drawing simple network"
   ]
  },
  {
   "cell_type": "code",
   "execution_count": null,
   "metadata": {},
   "outputs": [],
   "source": [
    "G= nx.karate_club_graph()\n",
    "karate_pos= nx.spring_layout(G, k=0.3)\n",
    "nx.draw_networkx(G, karate_pos)"
   ]
  },
  {
   "cell_type": "markdown",
   "metadata": {},
   "source": [
    "### Nodes and edges Information"
   ]
  },
  {
   "cell_type": "code",
   "execution_count": null,
   "metadata": {},
   "outputs": [],
   "source": [
    "# in [] and () should write lable or id of the node\n",
    "G.nodes[32]\n",
    "G.edges(32)"
   ]
  },
  {
   "cell_type": "markdown",
   "metadata": {},
   "source": [
    "### Node & Edge Attributes"
   ]
  },
  {
   "cell_type": "code",
   "execution_count": null,
   "metadata": {},
   "outputs": [],
   "source": [
    "member_club=[0,0,0,0,0,0,0,0,0,1,1,0,0,0,0,1,1,0,0,1,0,1,0,1,1,1,1,1,1,1,1,1,1,1]"
   ]
  },
  {
   "cell_type": "code",
   "execution_count": null,
   "metadata": {},
   "outputs": [],
   "source": [
    "for node_id in G.nodes:\n",
    "    G.nodes[node_id]['Attr_1']= member_club[node_id]"
   ]
  },
  {
   "cell_type": "code",
   "execution_count": null,
   "metadata": {},
   "outputs": [],
   "source": [
    "node_color= [ \n",
    "    '#bb7a44' if G.nodes[v]['Attr_1']== 0\n",
    "    else '#33a02c' for v in G\n",
    "]"
   ]
  },
  {
   "cell_type": "code",
   "execution_count": null,
   "metadata": {},
   "outputs": [],
   "source": [
    "nx.draw_networkx(G, karate_pos, node_color=node_color)"
   ]
  },
  {
   "cell_type": "code",
   "execution_count": null,
   "metadata": {},
   "outputs": [],
   "source": [
    "for v, w in G.edges:\n",
    "    if G.nodes[v]['Attr_1']== G.nodes[w]['Attr_1']:\n",
    "        G.edges[v, w]['internal']= True\n",
    "    else:\n",
    "        G.edges[v, w]['internal']= False"
   ]
  },
  {
   "cell_type": "code",
   "execution_count": null,
   "metadata": {},
   "outputs": [],
   "source": [
    "internal= [e for e in G.edges if G.edges[e]['internal']]\n",
    "extenal= [e for e in G.edges if ~G.edges[e]['internal']]"
   ]
  },
  {
   "cell_type": "code",
   "execution_count": null,
   "metadata": {},
   "outputs": [],
   "source": [
    "# for drawing edge attribute should draw node and edges seprately\n",
    "nx.draw_networkx_nodes(G, karate_pos, node_color=node_color)\n",
    "nx.draw_networkx_labels(G, karate_pos)\n",
    "nx.draw_networkx_edges(G, karate_pos, edgelist= internal)\n",
    "nx.draw_networkx_edges(G, karate_pos, edgelist= extenal, style='dashed')"
   ]
  },
  {
   "cell_type": "markdown",
   "metadata": {},
   "source": [
    "### Tie Strength"
   ]
  },
  {
   "cell_type": "code",
   "execution_count": null,
   "metadata": {},
   "outputs": [],
   "source": [
    "def tie_strength(G, v, w):\n",
    "    # get neighbors of nodes v and w in G\n",
    "    v_neighbors= set(G.neighbors(v))\n",
    "    w_neighbors= set(G.neighbors(w))\n",
    "    # return size of the set intersection\n",
    "    return 1+ len(v_neighbors & w_neighbors)"
   ]
  },
  {
   "cell_type": "markdown",
   "metadata": {},
   "source": [
    "### Adding Weight"
   ]
  },
  {
   "cell_type": "code",
   "execution_count": null,
   "metadata": {},
   "outputs": [],
   "source": [
    "for v, w in G.edges:\n",
    "    G.edges[v, w]['weight']= tie_strength(G, v, w)\n",
    "    edge_weight= [G.edges[v, w]['weight']for v, w in G.edges]"
   ]
  },
  {
   "cell_type": "code",
   "execution_count": null,
   "metadata": {},
   "outputs": [],
   "source": [
    "weight_pos= nx.spring_layout(G, pos=karate_pos, k=0.3, weight='weight')"
   ]
  },
  {
   "cell_type": "code",
   "execution_count": null,
   "metadata": {},
   "outputs": [],
   "source": [
    "nx.draw_networkx(G, weight_pos, width=8, node_color=node_color,\n",
    "    edge_color= edge_weight, edge_cmap= plt.cm.Blues, edge_vmin=0, edge_vmax=6)\n",
    "nx.draw_networkx_edges(G, weight_pos, edgelist=internal, edge_color='gray')\n",
    "nx.draw_networkx_edges(G, weight_pos, edgelist=extenal, style='dashed', edge_color='gray')"
   ]
  },
  {
   "cell_type": "markdown",
   "metadata": {},
   "source": [
    "## DiGraph class - when direction matters"
   ]
  },
  {
   "cell_type": "markdown",
   "metadata": {},
   "source": [
    "### drawing directed graph"
   ]
  },
  {
   "cell_type": "code",
   "execution_count": null,
   "metadata": {},
   "outputs": [],
   "source": [
    "pasarged= pd.read_excel(r'C:/Users/ah.roudsaz/Desktop/code/NetworkX_graph/Data/Example/directed_pasargad.xlsx')"
   ]
  },
  {
   "cell_type": "code",
   "execution_count": null,
   "metadata": {},
   "outputs": [],
   "source": [
    "pasarged['Tuple_e']= list(pasarged[['source','target']].itertuples(index=False, name=None))\n",
    "edge_list= list(pasarged['Tuple_e'])"
   ]
  },
  {
   "cell_type": "code",
   "execution_count": null,
   "metadata": {},
   "outputs": [],
   "source": [
    "G= nx.DiGraph()\n",
    "G.add_edges_from(edge_list)"
   ]
  },
  {
   "cell_type": "code",
   "execution_count": null,
   "metadata": {},
   "outputs": [],
   "source": [
    "directed_pos= nx.spring_layout(G, k=1.5)\n",
    "nx.draw_networkx(G, directed_pos, arrowsize= 20)"
   ]
  },
  {
   "cell_type": "markdown",
   "metadata": {},
   "source": [
    "### find ingoing and outgoing edges for node"
   ]
  },
  {
   "cell_type": "code",
   "execution_count": null,
   "metadata": {},
   "outputs": [],
   "source": [
    "list(G.neighbors(10102711784))"
   ]
  },
  {
   "cell_type": "code",
   "execution_count": null,
   "metadata": {},
   "outputs": [],
   "source": [
    "list(G.successors(10102711784))"
   ]
  },
  {
   "cell_type": "code",
   "execution_count": null,
   "metadata": {},
   "outputs": [],
   "source": [
    "list(G.predecessors(10102711784))"
   ]
  },
  {
   "cell_type": "markdown",
   "metadata": {},
   "source": [
    "### convert directed graph to undirecrted"
   ]
  },
  {
   "cell_type": "code",
   "execution_count": null,
   "metadata": {},
   "outputs": [],
   "source": [
    "G_undirected= G.to_undirected()"
   ]
  },
  {
   "cell_type": "code",
   "execution_count": null,
   "metadata": {},
   "outputs": [],
   "source": [
    "# converting only both direction edges to undirected\n",
    "# in this case only the both direction edges that convert to undirected will remain\n",
    "G_both= G.to_undirected(reciprocal=True)"
   ]
  },
  {
   "cell_type": "code",
   "execution_count": null,
   "metadata": {},
   "outputs": [],
   "source": [
    "plt.subplot(1, 2, 1)\n",
    "nx.draw_networkx(G_undirected, directed_pos)\n",
    "plt.subplot(1, 2, 2)\n",
    "nx.draw_networkx(G_both, directed_pos)"
   ]
  },
  {
   "cell_type": "markdown",
   "metadata": {},
   "source": [
    "### Subgraph"
   ]
  },
  {
   "cell_type": "code",
   "execution_count": null,
   "metadata": {},
   "outputs": [],
   "source": [
    "G_sub= G.subgraph([491014996,10102711784])"
   ]
  },
  {
   "cell_type": "code",
   "execution_count": null,
   "metadata": {},
   "outputs": [],
   "source": [
    "nx.draw_networkx(G_sub, directed_pos)"
   ]
  },
  {
   "cell_type": "markdown",
   "metadata": {},
   "source": [
    "### AFFILIATION network_ Bipartite"
   ]
  },
  {
   "cell_type": "markdown",
   "metadata": {},
   "source": [
    "#### affiliation"
   ]
  },
  {
   "cell_type": "code",
   "execution_count": null,
   "metadata": {},
   "outputs": [],
   "source": [
    "G= nx.karate_club_graph()\n",
    "try:\n",
    "    left, right= bipartite.sets(G)\n",
    "    print('left nodes\\n', left)\n",
    "    print('\\nright nodes\\n', right)\n",
    "except NetworkXError as e:\n",
    "    print(e)"
   ]
  },
  {
   "cell_type": "code",
   "execution_count": null,
   "metadata": {},
   "outputs": [],
   "source": [
    "B= nx.Graph()"
   ]
  },
  {
   "cell_type": "code",
   "execution_count": null,
   "metadata": {},
   "outputs": [],
   "source": [
    "B.add_edges_from([(v, (v, w)) for v, w in G.edges])\n",
    "B.add_edges_from([(w, (v, w)) for v, w in G.edges])"
   ]
  },
  {
   "cell_type": "code",
   "execution_count": null,
   "metadata": {},
   "outputs": [],
   "source": [
    "try:\n",
    "    left, right= bipartite.sets(B)\n",
    "    print('left nodes\\n', left)\n",
    "    print('\\nright nodes\\n', right)\n",
    "except NetworkXError as e:\n",
    "    print(e)"
   ]
  },
  {
   "cell_type": "markdown",
   "metadata": {},
   "source": [
    "#### Projected co-affilation"
   ]
  },
  {
   "cell_type": "code",
   "execution_count": null,
   "metadata": {},
   "outputs": [],
   "source": [
    "node_list= list(G.nodes())"
   ]
  },
  {
   "cell_type": "code",
   "execution_count": null,
   "metadata": {},
   "outputs": [],
   "source": [
    "G_projected= bipartite.projected_graph(B, nodes= node_list)"
   ]
  },
  {
   "cell_type": "code",
   "execution_count": null,
   "metadata": {},
   "outputs": [],
   "source": [
    "plt.figure(figsize=(24,24))\n",
    "pos= nx.spring_layout(B, k=0.5)\n",
    "nx.draw_networkx_edges(B, pos, width=3, alpha=0.2)\n",
    "nx.draw_networkx_nodes(B, pos, node_color='#bfbf7f', node_shape='h', node_size=150)\n",
    "nx.draw_networkx_labels(B, pos)"
   ]
  },
  {
   "cell_type": "markdown",
   "metadata": {},
   "source": [
    "#### Projected co-affiliation Weighted"
   ]
  },
  {
   "cell_type": "code",
   "execution_count": null,
   "metadata": {},
   "outputs": [],
   "source": [
    "B_weighted= bipartite.weighted_projected_graph(B, node_list)"
   ]
  },
  {
   "cell_type": "code",
   "execution_count": null,
   "metadata": {},
   "outputs": [],
   "source": [
    "list(B_weighted.edges(data=True))[55]"
   ]
  },
  {
   "cell_type": "code",
   "execution_count": null,
   "metadata": {},
   "outputs": [],
   "source": [
    "plt.figure(figsize=(24,24))\n",
    "pos= nx.spring_layout(B_weighted, k=0.5)\n",
    "nx.draw_networkx_edges(B_weighted, pos, width=3, alpha=0.2)\n",
    "nx.draw_networkx_nodes(B_weighted, pos, node_color='#bfbf7f', node_shape='h', node_size=150)\n",
    "nx.draw_networkx_labels(B_weighted, pos)"
   ]
  },
  {
   "cell_type": "markdown",
   "metadata": {},
   "source": [
    "#### Jaccard Index Projected"
   ]
  },
  {
   "cell_type": "code",
   "execution_count": null,
   "metadata": {},
   "outputs": [],
   "source": [
    "B_jaccard= bipartite.overlap_weighted_projected_graph(B, node_list)\n",
    "weight= [B_jaccard.edges[e]['weight'] for e in B_jaccard.edges]\n",
    "plt.figure(figsize=(30,30))\n",
    "pos= nx.spring_layout(B_jaccard, weight= 'weight', k=0.5)\n",
    "nx.draw_networkx_edges(B_jaccard, pos, edge_color= weight, edge_cmap= plt.cm.Blues,\n",
    "    width=6, alpha=0.5)\n",
    "nx.draw_networkx_nodes(B_jaccard, pos, node_color='#9f9fff', node_size= 6000)\n",
    "nx.draw_networkx_labels(B_jaccard, pos)"
   ]
  },
  {
   "cell_type": "code",
   "execution_count": null,
   "metadata": {},
   "outputs": [],
   "source": [
    "list(B_jaccard.edges(data= True))[68]"
   ]
  },
  {
   "cell_type": "markdown",
   "metadata": {},
   "source": [
    "## Centrality"
   ]
  },
  {
   "cell_type": "markdown",
   "metadata": {},
   "source": [
    "### Betweenness Centrality"
   ]
  },
  {
   "cell_type": "code",
   "execution_count": null,
   "metadata": {},
   "outputs": [],
   "source": [
    "betweenness= nx.betweenness_centrality(G, normalized=False, endpoints=True)"
   ]
  },
  {
   "cell_type": "code",
   "execution_count": null,
   "metadata": {},
   "outputs": [],
   "source": [
    "# for srteing the resulat of betweenness and showing some of them\n",
    "sorted(betweenness.items(), key=lambda x: x[1], reverse=True)[0:3]"
   ]
  },
  {
   "cell_type": "markdown",
   "metadata": {},
   "source": [
    "### Hubs- eigenvector centrality"
   ]
  },
  {
   "cell_type": "code",
   "execution_count": null,
   "metadata": {},
   "outputs": [],
   "source": [
    "eigenvector= nx.eigenvector_centrality(G)"
   ]
  },
  {
   "cell_type": "code",
   "execution_count": null,
   "metadata": {},
   "outputs": [],
   "source": [
    "# for srteing the resulat of eigenvector and showing some of them\n",
    "sorted(eigenvector.items(), key=lambda x: x[1], reverse=True)[0:3]"
   ]
  },
  {
   "cell_type": "markdown",
   "metadata": {},
   "source": [
    "### closeness Centrality"
   ]
  },
  {
   "cell_type": "code",
   "execution_count": null,
   "metadata": {},
   "outputs": [],
   "source": [
    "closeness= nx.closeness_centrality(G)"
   ]
  },
  {
   "cell_type": "code",
   "execution_count": null,
   "metadata": {},
   "outputs": [],
   "source": [
    "# for srteing the resulat of closeness and showing some of them\n",
    "sorted(closeness.items(), key=lambda x: x[1], reverse=True)[0:3]"
   ]
  },
  {
   "cell_type": "markdown",
   "metadata": {},
   "source": [
    "### Local clustering"
   ]
  },
  {
   "cell_type": "code",
   "execution_count": null,
   "metadata": {},
   "outputs": [],
   "source": [
    "triangles= nx.triangles(G)"
   ]
  },
  {
   "cell_type": "code",
   "execution_count": null,
   "metadata": {},
   "outputs": [],
   "source": [
    "# for srteing the resulat of triangles and showing some of them\n",
    "sorted(triangles.items(), key=lambda x: x[1], reverse=True)[0:3]"
   ]
  },
  {
   "cell_type": "code",
   "execution_count": null,
   "metadata": {},
   "outputs": [],
   "source": [
    "clustering= nx.clustering(G)"
   ]
  },
  {
   "cell_type": "code",
   "execution_count": null,
   "metadata": {},
   "outputs": [],
   "source": [
    "people = list(G.nodes())"
   ]
  },
  {
   "cell_type": "code",
   "execution_count": null,
   "metadata": {},
   "outputs": [],
   "source": [
    "[(x, clustering[x]) for x in sorted(people, key= lambda x: eigenvector[x],reverse=True)[0:3]]"
   ]
  },
  {
   "cell_type": "markdown",
   "metadata": {},
   "source": [
    "## Large_Scale"
   ]
  },
  {
   "cell_type": "markdown",
   "metadata": {},
   "source": [
    "### shortest path"
   ]
  },
  {
   "cell_type": "code",
   "execution_count": null,
   "metadata": {},
   "outputs": [],
   "source": [
    "G= nx.karate_club_graph()"
   ]
  },
  {
   "cell_type": "code",
   "execution_count": null,
   "metadata": {},
   "outputs": [],
   "source": [
    "list(nx.all_shortest_paths(G, 0, 33))"
   ]
  },
  {
   "cell_type": "code",
   "execution_count": null,
   "metadata": {},
   "outputs": [],
   "source": [
    "nx.shortest_path_length(G, 0,33)"
   ]
  },
  {
   "cell_type": "code",
   "execution_count": null,
   "metadata": {},
   "outputs": [],
   "source": [
    "lenght_source_target= dict(nx.shortest_path_length(G))"
   ]
  },
  {
   "cell_type": "code",
   "execution_count": null,
   "metadata": {},
   "outputs": [],
   "source": [
    "lenght_source_target[0] [33]"
   ]
  },
  {
   "cell_type": "code",
   "execution_count": null,
   "metadata": {},
   "outputs": [],
   "source": [
    "def path_lenght_histogram(G, title=None):\n",
    "    # Find path lengths\n",
    "    length_source_target= dict(nx.shortest_path_length(G))\n",
    "    # Convert dict of dicts to flat list\n",
    "    all_shortest= sum([ \n",
    "        list(length_target.values())\n",
    "        for length_target\n",
    "        in length_source_target.values()],\n",
    "    [])\n",
    "    # Calculate integer bins\n",
    "    high= max(all_shortest)\n",
    "    bins= [-0.5 + i for i in range(high + 2)]\n",
    "    # plot histogram\n",
    "    plt.hist(all_shortest, bins=bins, rwidth=1)\n",
    "    plt.title(title)\n",
    "    plt.xlabel('Distance')\n",
    "    plt.ylabel('Count')"
   ]
  },
  {
   "cell_type": "code",
   "execution_count": null,
   "metadata": {},
   "outputs": [],
   "source": [
    "path_lenght_histogram(G, title='Karate_club')"
   ]
  },
  {
   "cell_type": "markdown",
   "metadata": {},
   "source": [
    "#### the maen shortest path length- characteristic length"
   ]
  },
  {
   "cell_type": "code",
   "execution_count": null,
   "metadata": {},
   "outputs": [],
   "source": [
    "nx.average_shortest_path_length(G)"
   ]
  },
  {
   "cell_type": "markdown",
   "metadata": {},
   "source": [
    "#### Diameter"
   ]
  },
  {
   "cell_type": "code",
   "execution_count": null,
   "metadata": {},
   "outputs": [],
   "source": [
    "nx.diameter(G)"
   ]
  },
  {
   "cell_type": "markdown",
   "metadata": {},
   "source": [
    "### Global Clustering"
   ]
  },
  {
   "cell_type": "code",
   "execution_count": null,
   "metadata": {},
   "outputs": [],
   "source": [
    "nx.transitivity(G)"
   ]
  },
  {
   "cell_type": "code",
   "execution_count": null,
   "metadata": {},
   "outputs": [],
   "source": [
    "nx.average_clustering(G)"
   ]
  },
  {
   "cell_type": "markdown",
   "metadata": {},
   "source": [
    "### Resilience"
   ]
  },
  {
   "cell_type": "code",
   "execution_count": null,
   "metadata": {},
   "outputs": [],
   "source": [
    "nx.density(G)"
   ]
  },
  {
   "cell_type": "markdown",
   "metadata": {},
   "source": [
    "#### Minimum cuts"
   ]
  },
  {
   "cell_type": "code",
   "execution_count": null,
   "metadata": {},
   "outputs": [],
   "source": [
    "nxcon.minimum_st_node_cut(G, 0, 33)"
   ]
  },
  {
   "cell_type": "code",
   "execution_count": null,
   "metadata": {},
   "outputs": [],
   "source": [
    "nxcon.minimum_st_edge_cut(G, 0, 33)"
   ]
  },
  {
   "cell_type": "code",
   "execution_count": null,
   "metadata": {},
   "outputs": [],
   "source": [
    "nx.node_connectivity(G, 0, 33)"
   ]
  },
  {
   "cell_type": "code",
   "execution_count": null,
   "metadata": {},
   "outputs": [],
   "source": [
    "nx.edge_connectivity(G, 0, 33)"
   ]
  },
  {
   "cell_type": "markdown",
   "metadata": {},
   "source": [
    "#### Connectivity"
   ]
  },
  {
   "cell_type": "code",
   "execution_count": null,
   "metadata": {},
   "outputs": [],
   "source": [
    "nxcon.minimum_node_cut(G)"
   ]
  },
  {
   "cell_type": "code",
   "execution_count": null,
   "metadata": {},
   "outputs": [],
   "source": [
    "nxcon.minimum_edge_cut(G)"
   ]
  },
  {
   "cell_type": "code",
   "execution_count": null,
   "metadata": {},
   "outputs": [],
   "source": [
    "nx.node_connectivity(G)"
   ]
  },
  {
   "cell_type": "code",
   "execution_count": null,
   "metadata": {},
   "outputs": [],
   "source": [
    "nx.edge_connectivity(G)"
   ]
  },
  {
   "cell_type": "markdown",
   "metadata": {},
   "source": [
    "### Centralization and inequality"
   ]
  },
  {
   "cell_type": "code",
   "execution_count": null,
   "metadata": {},
   "outputs": [],
   "source": [
    "def centrality_histogram(x, title=None):\n",
    "    plt.hist(x, density=True)\n",
    "    plt.title(title)\n",
    "    plt.xlabel('centrality')\n",
    "    plt.ylabel('density')\n",
    "\n",
    "centrality_histogram(nx.eigenvector_centrality(G).values(),title='karate')"
   ]
  },
  {
   "cell_type": "markdown",
   "metadata": {},
   "source": [
    "#### entropy"
   ]
  },
  {
   "cell_type": "code",
   "execution_count": null,
   "metadata": {},
   "outputs": [],
   "source": [
    "def entropy(x):\n",
    "    total= sum(x)\n",
    "    x= [xi / total for xi in x]\n",
    "    H= sum([-xi * math.log2(xi) for xi in x])\n",
    "    return H"
   ]
  },
  {
   "cell_type": "code",
   "execution_count": null,
   "metadata": {},
   "outputs": [],
   "source": [
    "entropy(nx.eigenvector_centrality(G).values())"
   ]
  },
  {
   "cell_type": "markdown",
   "metadata": {},
   "source": [
    "#### Gini index"
   ]
  },
  {
   "cell_type": "code",
   "execution_count": null,
   "metadata": {},
   "outputs": [],
   "source": [
    "def gini(x);"
   ]
  },
  {
   "cell_type": "markdown",
   "metadata": {},
   "source": [
    "### Local clustering"
   ]
  },
  {
   "cell_type": "code",
   "execution_count": null,
   "metadata": {},
   "outputs": [],
   "source": [
    "clustering= nx.clustering(G)"
   ]
  },
  {
   "cell_type": "code",
   "execution_count": null,
   "metadata": {},
   "outputs": [],
   "source": [
    "company=[]\n",
    "for node_id in G.nodes:\n",
    "    if G.nodes[node_id]['State']==0:\n",
    "        company.append(node_id)"
   ]
  },
  {
   "cell_type": "code",
   "execution_count": null,
   "metadata": {},
   "outputs": [],
   "source": [
    "[(x, clustering[x]) for x in sorted(company, key= lambda x: eigenvector[x], reverse=True)[0:10]]"
   ]
  },
  {
   "cell_type": "markdown",
   "metadata": {},
   "source": [
    "## Communities"
   ]
  },
  {
   "cell_type": "markdown",
   "metadata": {},
   "source": [
    "### Communities"
   ]
  },
  {
   "cell_type": "code",
   "execution_count": null,
   "metadata": {},
   "outputs": [],
   "source": [
    "G= nx.karate_club_graph()"
   ]
  },
  {
   "cell_type": "code",
   "execution_count": null,
   "metadata": {},
   "outputs": [],
   "source": [
    "communities= sorted (nxcom.greedy_modularity_communities(G), key= len, reverse= True)"
   ]
  },
  {
   "cell_type": "code",
   "execution_count": null,
   "metadata": {},
   "outputs": [],
   "source": [
    "communities"
   ]
  },
  {
   "cell_type": "code",
   "execution_count": null,
   "metadata": {},
   "outputs": [],
   "source": [
    "len(communities)"
   ]
  },
  {
   "cell_type": "markdown",
   "metadata": {},
   "source": [
    "### visualize"
   ]
  },
  {
   "cell_type": "code",
   "execution_count": null,
   "metadata": {},
   "outputs": [],
   "source": [
    "def set_node_community(G, communities):\n",
    "    '''Add community to node attribute'''\n",
    "    for c, v_c in enumerate(communities):\n",
    "        for v in v_c:\n",
    "            G.nodes[v]['community']= c + 1"
   ]
  },
  {
   "cell_type": "code",
   "execution_count": null,
   "metadata": {},
   "outputs": [],
   "source": [
    "def set_edge_community(G):\n",
    "    '''Finde internal edges and add their community to their attributes'''\n",
    "    for v, w in G.edges:\n",
    "        if G.nodes[v]['community']== G.nodes[w]['community']:\n",
    "            # Internal edge, mark with community\n",
    "            G.edges[v, w]['community']= G.nodes[v]['community']\n",
    "        else:\n",
    "            # External edge, mark as 0\n",
    "            G.edges[ v,w]['community']= 0"
   ]
  },
  {
   "cell_type": "code",
   "execution_count": null,
   "metadata": {},
   "outputs": [],
   "source": [
    "def get_color(i, r_off=1, g_off=1, b_off=1):\n",
    "    '''This function is for maping the itegers 1 to 16 to unique colors'''\n",
    "    r0, g0 , b0 = 0,0,0\n",
    "    n=16\n",
    "    low, high = 0.1, 0.9\n",
    "    span= high - low\n",
    "    r= low + span * (((i+ r_off) * 3)% n)/ (n - 1)\n",
    "    g= low + span * (((i+ g_off) * 5)% n)/ (n - 1)\n",
    "    b= low + span * (((i+ b_off) * 7)% n)/ (n - 1)\n",
    "    return (r, g, b)"
   ]
  },
  {
   "cell_type": "code",
   "execution_count": null,
   "metadata": {},
   "outputs": [],
   "source": [
    "# set node and edge communities\n",
    "set_node_community(G, communities)\n",
    "set_edge_community(G)\n",
    "# set community color for nodes\n",
    "node_color= [ \n",
    "    get_color(G.nodes[v]['community'])\n",
    "    for v in G.nodes]\n",
    "# set community color for internal edges\n",
    "external= [ \n",
    "    (v, w) for v, w in G.edges\n",
    "    if G.edges[v, w]['community']== 0]\n",
    "internal= [ \n",
    "    (v, w) for v, w in G.edges\n",
    "    if G.edges[v, w]['community']> 0]\n",
    "internal_color= [ \n",
    "    get_color(G.edges[e]['community'])\n",
    "    for e in internal]"
   ]
  },
  {
   "cell_type": "code",
   "execution_count": null,
   "metadata": {},
   "outputs": [],
   "source": [
    "karate_pos= nx.spring_layout(G)"
   ]
  },
  {
   "cell_type": "code",
   "execution_count": null,
   "metadata": {},
   "outputs": [],
   "source": [
    "nx.draw_networkx( \n",
    "    G , pos= karate_pos, node_size= 10,\n",
    "    edgelist= external, edge_color= \"#333333\")\n",
    "nx.draw_networkx( \n",
    "    G, pos= karate_pos, node_color= node_color, edgelist= internal, edge_color= internal_color)"
   ]
  },
  {
   "cell_type": "markdown",
   "metadata": {},
   "source": [
    "### Girvan_newman"
   ]
  },
  {
   "cell_type": "code",
   "execution_count": null,
   "metadata": {},
   "outputs": [],
   "source": [
    "result= nxcom.girvan_newman(G)"
   ]
  },
  {
   "cell_type": "code",
   "execution_count": null,
   "metadata": {},
   "outputs": [],
   "source": [
    "communities= next(result)"
   ]
  },
  {
   "cell_type": "code",
   "execution_count": null,
   "metadata": {},
   "outputs": [],
   "source": [
    "communities"
   ]
  },
  {
   "cell_type": "code",
   "execution_count": null,
   "metadata": {},
   "outputs": [],
   "source": [
    "# set node and edge communities\n",
    "set_node_community(G, communities)\n",
    "set_edge_community(G)\n",
    "# set community color for nodes\n",
    "node_color= [ \n",
    "    get_color(G.nodes[v]['community'])\n",
    "    for v in G.nodes]\n",
    "# set community color for internal edges\n",
    "external= [ \n",
    "    (v, w) for v, w in G.edges\n",
    "    if G.edges[v, w]['community']== 0]\n",
    "internal= [ \n",
    "    (v, w) for v, w in G.edges\n",
    "    if G.edges[v, w]['community']> 0]\n",
    "internal_color= [ \n",
    "    get_color(G.edges[e]['community'])\n",
    "    for e in internal]"
   ]
  },
  {
   "cell_type": "code",
   "execution_count": null,
   "metadata": {},
   "outputs": [],
   "source": [
    "nx.draw_networkx( \n",
    "    G , pos= karate_pos, node_size= 10,\n",
    "    edgelist= external, edge_color= \"#333333\")\n",
    "nx.draw_networkx( \n",
    "    G, pos= karate_pos, node_color= node_color, edgelist= internal, edge_color= internal_color)"
   ]
  },
  {
   "cell_type": "code",
   "execution_count": null,
   "metadata": {},
   "outputs": [],
   "source": [
    "result= nxcom.girvan_newman(G)\n",
    "communities= next(itertools.islice(result, 2, 3))"
   ]
  },
  {
   "cell_type": "code",
   "execution_count": null,
   "metadata": {},
   "outputs": [],
   "source": [
    "# set node and edge communities\n",
    "set_node_community(G, communities)\n",
    "set_edge_community(G)\n",
    "# set community color for nodes\n",
    "node_color= [ \n",
    "    get_color(G.nodes[v]['community'])\n",
    "    for v in G.nodes]\n",
    "# set community color for internal edges\n",
    "external= [ \n",
    "    (v, w) for v, w in G.edges\n",
    "    if G.edges[v, w]['community']== 0]\n",
    "internal= [ \n",
    "    (v, w) for v, w in G.edges\n",
    "    if G.edges[v, w]['community']> 0]\n",
    "internal_color= [ \n",
    "    get_color(G.edges[e]['community'])\n",
    "    for e in internal]"
   ]
  },
  {
   "cell_type": "code",
   "execution_count": null,
   "metadata": {},
   "outputs": [],
   "source": [
    "nx.draw_networkx( \n",
    "    G , pos= karate_pos, node_size= 10,\n",
    "    edgelist= external, edge_color= \"#333333\")\n",
    "nx.draw_networkx( \n",
    "    G, pos= karate_pos, node_color= node_color, edgelist= internal, edge_color= internal_color)"
   ]
  },
  {
   "cell_type": "markdown",
   "metadata": {},
   "source": [
    "### Cliques"
   ]
  },
  {
   "cell_type": "code",
   "execution_count": null,
   "metadata": {},
   "outputs": [],
   "source": [
    "cliques= list(nx.find_cliques(G))"
   ]
  },
  {
   "cell_type": "code",
   "execution_count": null,
   "metadata": {},
   "outputs": [],
   "source": [
    "cliques"
   ]
  },
  {
   "cell_type": "code",
   "execution_count": null,
   "metadata": {},
   "outputs": [],
   "source": [
    "max_cliques= max(cliques, key=len)\n",
    "max_cliques"
   ]
  },
  {
   "cell_type": "code",
   "execution_count": null,
   "metadata": {},
   "outputs": [],
   "source": [
    "node_color= [(0.5,0.5,0.5) for v in G.nodes()]\n",
    "for i, v in enumerate(G.nodes()):\n",
    "    if v in max_cliques:\n",
    "        node_color[i] = (0.5, 0.5, 0.9)\n",
    "nx.draw_networkx(G, node_color= node_color, pos= karate_pos)"
   ]
  },
  {
   "cell_type": "markdown",
   "metadata": {},
   "source": [
    "## Social network"
   ]
  },
  {
   "cell_type": "markdown",
   "metadata": {},
   "source": [
    "### Tie strength"
   ]
  },
  {
   "cell_type": "code",
   "execution_count": null,
   "metadata": {},
   "outputs": [],
   "source": [
    "G = nx.karate_club_graph()\n",
    "# Annotate with splinter club label\n",
    "member_club= [ \n",
    "    0,0,0,0,0,0,0,0,1,1,\n",
    "    0,0,0,0,1,1,0,0,1,0,\n",
    "    1,0,1,1,1,1,1,1,1,1,\n",
    "    1,1,1,1]\n",
    "nx.set_node_attributes(G, dict(enumerate(member_club)), 'club')\n",
    "internal= [ \n",
    "    (v, w) for v, w in G.edges\n",
    "    if G.nodes[v]['club'] == G.nodes[w]['club']]\n",
    "external= [ \n",
    "    (v, w) for v, w in G.edges\n",
    "    if G.nodes[v]['club'] != G.nodes[w]['club']]"
   ]
  },
  {
   "cell_type": "code",
   "execution_count": null,
   "metadata": {},
   "outputs": [],
   "source": [
    "def tie_strength(G, v, w):\n",
    "    # Get neighbors of nodes v and w in G\n",
    "    v_neighbors= set (G.neighbors(v))\n",
    "    w_neighbors= set (G.neighbors(w))\n",
    "    # Return size of the set intersection\n",
    "    return 1+ len(v_neighbors & w_neighbors)"
   ]
  },
  {
   "cell_type": "code",
   "execution_count": null,
   "metadata": {},
   "outputs": [],
   "source": [
    "strength= dict ( \n",
    "    ((v, w), tie_strength(G, v, w))\n",
    "    for v, w in G.edges())"
   ]
  },
  {
   "cell_type": "code",
   "execution_count": null,
   "metadata": {},
   "outputs": [],
   "source": [
    "strength"
   ]
  },
  {
   "cell_type": "markdown",
   "metadata": {},
   "source": [
    "### bridge Span"
   ]
  },
  {
   "cell_type": "code",
   "execution_count": null,
   "metadata": {},
   "outputs": [],
   "source": [
    "def bridge_span(G):\n",
    "    edges= G.edges()\n",
    "    G= nx.Graph(G)\n",
    "    result = dict()\n",
    "    for v , w in edges:\n",
    "        G.remove_edge(v, w)\n",
    "        try:\n",
    "            d= nx.shortest_path_length(G, v, w)\n",
    "            result[(v, w)]= d\n",
    "        except nx.NetworkXNoPath:\n",
    "            result[(v, w)]= float('inf')\n",
    "            # restore edge\n",
    "            G.add_edge(v , w)\n",
    "    return result"
   ]
  },
  {
   "cell_type": "code",
   "execution_count": null,
   "metadata": {},
   "outputs": [],
   "source": [
    "span= bridge_span(G)"
   ]
  },
  {
   "cell_type": "code",
   "execution_count": null,
   "metadata": {},
   "outputs": [],
   "source": [
    "span"
   ]
  },
  {
   "cell_type": "markdown",
   "metadata": {},
   "source": [
    "### compare strenght and span"
   ]
  },
  {
   "cell_type": "code",
   "execution_count": null,
   "metadata": {},
   "outputs": [],
   "source": [
    "# Order edges by tie strength\n",
    "ordered_edges= sorted (strength.items(), key= lambda x: x[1])\n",
    "print ('Edge\\t Strnght\\t Span\\t Internal')\n",
    "# print 10 storngest\n",
    "for e, edge_strength in ordered_edges [:10]:\n",
    "    print('{:10}{}\\t\\t{}\\t{}'. format( \n",
    "        str(e), edge_strength, span[e], G.edges[e]['internal']))\n",
    "print('...')\n",
    "# print 10 weakest\n",
    "for e, edge_strength in ordered_edges[-10:]:\n",
    "    print('{:10}{}\\t\\t{}\\t{}'. format( \n",
    "        str(e), edge_strength, span[e], G.edges[e]['internal']))"
   ]
  },
  {
   "cell_type": "markdown",
   "metadata": {},
   "source": [
    "### Simple Contagion"
   ]
  },
  {
   "cell_type": "code",
   "execution_count": null,
   "metadata": {},
   "outputs": [],
   "source": [
    "def propagate_simple (G):\n",
    "    to_inflect = set([])\n",
    "    # Find inflect nodes\n",
    "    for v in G.nodes():\n",
    "        if G.nodes[v]['infect'] == False:\n",
    "            # Mark all neigbors for inflection\n",
    "            for w in nx.neighbors(G, v):\n",
    "                if G.nodes[w]['infected']:\n",
    "                    to_inflect.add(v)\n",
    "                    break\n",
    "    # Inflect marked nodes\n",
    "    for v in to_inflect:\n",
    "        G.nodes[v]['infected'] = True"
   ]
  },
  {
   "cell_type": "code",
   "execution_count": null,
   "metadata": {},
   "outputs": [],
   "source": [
    "nx.set_node_attributes( \n",
    "    G,\n",
    "    dict((i, False) for i in range (16)),\n",
    "    'infected')\n",
    "for i in range (2):\n",
    "    G.nodes[i]['infected']= True\n",
    "    plt.figure(figsize=(7.5, 2.5))"
   ]
  },
  {
   "cell_type": "code",
   "execution_count": null,
   "metadata": {},
   "outputs": [],
   "source": [
    "for i in range (3):\n",
    "    plt.subplot(1, 3, i + 1)\n",
    "    node_color= [ \n",
    "        '#bfbf7f' if G.nodes[v]['infected'] else '#9f9fff'\n",
    "        for v in G.nodes]\n",
    "    nx.draw_networkx( \n",
    "        G,\n",
    "        pos= nx.circular_layout(G),\n",
    "        node_color= node_color)\n",
    "    propagate_complex(G)"
   ]
  },
  {
   "cell_type": "markdown",
   "metadata": {},
   "source": [
    "### Complext Contagion"
   ]
  },
  {
   "cell_type": "code",
   "execution_count": null,
   "metadata": {},
   "outputs": [],
   "source": [
    "def propagate_complex(G):\n",
    "    to_inflect= set([])\n",
    "    # Find uniflected nodes\n",
    "    for v in G.nodes():\n",
    "        if G.nodes[v]['infected'] == False:\n",
    "            inflected_neigbors= 0\n",
    "            # Count inflected neigbors\n",
    "            for w in nx.neighbors (G, v):\n",
    "                if G.nodes[w]['infected']:\n",
    "                    inflected_neigbors += 1\n",
    "                    # remember nodes with 2+ inflected neighbors\n",
    "                    if inflected_neigbors >= 2:\n",
    "                        to_inflect.add (v)\n",
    "    # Inflect new nodes\n",
    "    for v in to_inflect:\n",
    "        G.nodes[v]['infected'] = True"
   ]
  },
  {
   "cell_type": "code",
   "execution_count": null,
   "metadata": {},
   "outputs": [],
   "source": [
    "nx.set_node_attributes( \n",
    "    G,\n",
    "    dict((i, False) for i in range (16)),\n",
    "    'infected')\n",
    "for i in range (2):\n",
    "    G.nodes[i]['infected'] = True"
   ]
  },
  {
   "cell_type": "code",
   "execution_count": null,
   "metadata": {},
   "outputs": [],
   "source": [
    "plt.figure(figsize= (7.5, 2.5))\n",
    "for i in range (3):\n",
    "    plt.subplot(1, 3, i + 1)\n",
    "    node_color= [ \n",
    "        '#bfbf7f' if G.nodes[v]['infected'] else '#9f9fff'\n",
    "        for v in G.nodes]\n",
    "    nx.draw_networkx(G, pos= nx.circular_layout(G), node_color= node_color)\n",
    "    propagate_complex(G)\n",
    "    plt.title(\"Step {}\". format(i))\n",
    "plt.tight_layout()"
   ]
  },
  {
   "cell_type": "markdown",
   "metadata": {},
   "source": [
    "## Simulating and analyzing"
   ]
  },
  {
   "cell_type": "markdown",
   "metadata": {},
   "source": [
    "### watts_strogatz"
   ]
  },
  {
   "cell_type": "code",
   "execution_count": null,
   "metadata": {},
   "outputs": [],
   "source": [
    "plt.figure( figsize=(7.5,2.25))\n",
    "for i, p in enumerate([0.0, 0.1, 1.0]):\n",
    "    G= nx.watts_strogatz_graph(12, 6, p)\n",
    "    plt.subplot(1, 3, i+1)\n",
    "    pos= nx.circular_layout(G)\n",
    "    nx.draw_networkx(G, pos)\n",
    "    plt.title('p={:0.1f}'.format(p))"
   ]
  },
  {
   "cell_type": "code",
   "execution_count": null,
   "metadata": {},
   "outputs": [],
   "source": [
    "plt.figure( figsize=(7.5,2.25))\n",
    "for i, p in enumerate([0.0, 0.1, 1.0]):\n",
    "    G= nx.watts_strogatz_graph(12, 6, p)\n",
    "    plt.subplot(1, 3, i+1)\n",
    "    pos= nx.circular_layout(G)\n",
    "    nx.draw_networkx(G, pos)\n",
    "    plt.title('p={:0.1f}'.format(p))"
   ]
  },
  {
   "cell_type": "markdown",
   "metadata": {},
   "source": [
    "### preferential attachment"
   ]
  },
  {
   "cell_type": "code",
   "execution_count": null,
   "metadata": {},
   "outputs": [],
   "source": [
    "G_preferentail_35 = nx.barabasi_albert_graph(35, 1)\n",
    "pos= nx.spring_layout(G_preferentail_35, k=0.1)\n",
    "nx.draw_networkx(G_preferentail_35, pos)"
   ]
  },
  {
   "cell_type": "code",
   "execution_count": null,
   "metadata": {},
   "outputs": [],
   "source": [
    "G_preferentail_500 = nx.barabasi_albert_graph(500, 1)\n",
    "pos= nx.spring_layout(G_preferentail_500)\n",
    "nx.draw_networkx(G_preferentail_500, pos, node_size=0, with_labels=False)"
   ]
  },
  {
   "cell_type": "code",
   "execution_count": null,
   "metadata": {},
   "outputs": [],
   "source": [
    "def plot_degree_hist (G, tilte):\n",
    "    '''Plot histogam of node degrees'''\n",
    "    plt.hist(dict(nx.degree(G)).values(), bins= range(1, 11))\n",
    "    plt.xlabel('Degree')\n",
    "    plt.ylabel('Count')\n",
    "    plt.title(tilte)"
   ]
  },
  {
   "cell_type": "code",
   "execution_count": null,
   "metadata": {},
   "outputs": [],
   "source": [
    "plt.figure(figsize=(7.5, 3.75))\n",
    "ax = plt.subplot(1, 2, 1)\n",
    "plot_degree_hist(G_preferentail_35, '35 nodes')\n",
    "for spine in ax.spines.values():\n",
    "    spine.set_visible(True)\n",
    "ax= plt.subplot(1, 2, 2)\n",
    "for spine in ax.spines.values():\n",
    "    spine.set_visible(True)\n",
    "plot_degree_hist(G_preferentail_500, '500 nodes')\n",
    "plt.tight_layout()"
   ]
  },
  {
   "cell_type": "markdown",
   "metadata": {},
   "source": [
    "### configuration models"
   ]
  },
  {
   "cell_type": "code",
   "execution_count": null,
   "metadata": {},
   "outputs": [],
   "source": [
    "# Find degrees of karate club nodes\n",
    "G= nx.karate_club_graph()\n",
    "degree_sequence= dict(nx.degree(G)).values()\n",
    "# Generate a random network with the same node degrees\n",
    "G_configuration= nx.degree_seq.configuration_model(degree_sequence)\n",
    "nx.draw_networkx(G_configuration)"
   ]
  },
  {
   "cell_type": "code",
   "execution_count": null,
   "metadata": {},
   "outputs": [],
   "source": [
    "degree_sequence"
   ]
  },
  {
   "cell_type": "markdown",
   "metadata": {},
   "source": [
    "### agent_base models"
   ]
  },
  {
   "cell_type": "code",
   "execution_count": null,
   "metadata": {},
   "outputs": [],
   "source": [
    "def initial_beliefs(G, true_value=0, std=15):\n",
    "    '''Generate estimate of a true value with normally_distributed errors'''\n",
    "    beliefs= dict( \n",
    "        (v, random.gauss(true_value, std))\n",
    "        for v in G.nodes())\n",
    "    return beliefs"
   ]
  },
  {
   "cell_type": "code",
   "execution_count": null,
   "metadata": {},
   "outputs": [],
   "source": [
    "beliefs= initial_beliefs(G, true_value=42)"
   ]
  },
  {
   "cell_type": "code",
   "execution_count": null,
   "metadata": {},
   "outputs": [],
   "source": [
    "def learning_step(G, beliefs):\n",
    "    '''Update each node's beliefs based on its neighbors's beliefs'''\n",
    "    new_beliefs= dict()\n",
    "    for v in G.nodes():\n",
    "        # Include old belief in average\n",
    "        total= beliefs[v]\n",
    "        count=1\n",
    "        # Update average based on each neighbor\n",
    "        for w in G.neighbors(v):\n",
    "            total += beliefs[w]\n",
    "            count += 1\n",
    "        # Calculate average for node w\n",
    "        new_beliefs[v]= total / count\n",
    "    return new_beliefs"
   ]
  },
  {
   "cell_type": "code",
   "execution_count": null,
   "metadata": {},
   "outputs": [],
   "source": [
    "def plot_beliefs(G, initial_beliefs, true_value=0, steps=10):\n",
    "    '''Plot change in beliefs over time'''\n",
    "    current_beliefs= dict( initial_beliefs)\n",
    "    beliefs= [current_beliefs]\n",
    "    # creat dicts of x and y values for each node\n",
    "    x= dict((v, list()) for v in G.nodes())\n",
    "    y= dict((v, list()) for v in G.nodes())\n",
    "    # Repeatedly update beliefs\n",
    "    for i in range(steps + 1):\n",
    "        for v in G.nodes():\n",
    "            x[v].append(i)\n",
    "            y[v].append(current_beliefs[v])\n",
    "        if i< steps:\n",
    "            current_beliefs= learning_step(G, current_beliefs)\n",
    "            beliefs.append(current_beliefs)\n",
    "    # Plot evolution of each node's beliefs\n",
    "    for v in G.nodes():\n",
    "        plt.plot(x[v], y[v], 'b-', alpha= 0.3, linewidth= 2)\n",
    "    # Plot mean value\n",
    "    mean_value= sum(initial_beliefs.values()) / len (initial_beliefs)\n",
    "    plt.plot([0, steps], [mean_value, mean_value], 'k:')\n",
    "    # add spines to plot\n",
    "    ax= plt.gca()\n",
    "    for spines in ax.spines.values():\n",
    "        spine.set_visible(True)\n",
    "    plt.xlim([0, steps])\n",
    "    plt.ylim([22, 62])"
   ]
  },
  {
   "cell_type": "code",
   "execution_count": null,
   "metadata": {},
   "outputs": [],
   "source": [
    "# dict of networks\n",
    "networks= { \n",
    "    'Karate Club': G,\n",
    "    'Configuration model' : G_configuration,\n",
    "    'Preferential attachment' : nx.barabasi_albert_graph(34, 1),\n",
    "    'Ring' : nx.watts_strogatz_graph(34, 6, 0),\n",
    "    'watts-storgatz (p=0.3)': nx.watts_strogatz_graph(34, 6, 0.1),\n",
    "    'watts-storgatz (p=1)' : nx.watts_strogatz_graph(34, 6, 1)\n",
    "}"
   ]
  },
  {
   "cell_type": "code",
   "execution_count": null,
   "metadata": {},
   "outputs": [],
   "source": [
    "# simulate and plot results for each network\n",
    "for i, (title, G) in enumerate(networks.items()):\n",
    "    plt.subplot(3, 2, i + 1)\n",
    "    plt.title(title)\n",
    "    plot_beliefs(G, beliefs, 42)\n",
    "plt.tight_layout()"
   ]
  },
  {
   "cell_type": "markdown",
   "metadata": {},
   "source": [
    "## Location and events"
   ]
  },
  {
   "cell_type": "markdown",
   "metadata": {},
   "source": [
    "### Networks in space"
   ]
  },
  {
   "cell_type": "markdown",
   "metadata": {},
   "source": [
    "#### Gravity model"
   ]
  },
  {
   "cell_type": "code",
   "execution_count": null,
   "metadata": {},
   "outputs": [],
   "source": [
    "# load data file into network\n",
    "from pathlib import Path\n",
    "data_dir= 'c:\\\\Users/ah.roudsaz/Desktop/carrier.csv'\n",
    "G_air= nx.Graph()\n",
    "with open( data_dir) as f:\n",
    "    # Skip header\n",
    "    next(f)\n",
    "    #Loop through data rows\n",
    "    for row in f:\n",
    "        count, v, w, year, month= row.strip().split(',')\n",
    "        count= int(count)\n",
    "        if count == 0 or v == w:\n",
    "            continue\n",
    "        try:\n",
    "            G_air.edges[v, w]['count'] += count\n",
    "        except KeyError:\n",
    "            G_air.add_edge(v, w, count=count)"
   ]
  },
  {
   "cell_type": "code",
   "execution_count": null,
   "metadata": {},
   "outputs": [],
   "source": [
    "# adding langitude and latitude\n",
    "airport_lat_long= {}\n",
    "data_dir_partow= 'C://Users/ah.roudsaz/Desktop/partow.txt'\n",
    "with open (data_dir_partow) as f:\n",
    "    for row in f:\n",
    "        columns= row.strip().split(',')\n",
    "        code= columns[1]\n",
    "        lat= float(columns[14])\n",
    "        long= float(columns[15])\n",
    "        airport_lat_long[code]= (lat, long)"
   ]
  },
  {
   "cell_type": "code",
   "execution_count": null,
   "metadata": {},
   "outputs": [],
   "source": [
    "for v in list(G_air.nodes()):\n",
    "    try:\n",
    "        lat, long= airport_lat_long[v]\n",
    "        if long == 0 or long < -128.6 or lat == 0 or lat < 23.5:\n",
    "            G_air.remove_node(v)\n",
    "            continue\n",
    "        G_air.nodes[v]['lat'] = lat\n",
    "        G_air.nodes[v]['long'] = long\n",
    "    except KeyError:\n",
    "        G_air.remove_node(v)"
   ]
  },
  {
   "cell_type": "code",
   "execution_count": null,
   "metadata": {},
   "outputs": [],
   "source": [
    "G_air= nx.subgraph(G_air, max(nx.connected_components(G_air), key = len))"
   ]
  },
  {
   "cell_type": "code",
   "execution_count": null,
   "metadata": {},
   "outputs": [],
   "source": [
    "nx.draw_networkx( \n",
    "    G_air, node_size= 100, with_labels=True, edge_color= '#666666', alpha= 0.1\n",
    ")"
   ]
  },
  {
   "cell_type": "code",
   "execution_count": null,
   "metadata": {},
   "outputs": [],
   "source": [
    "pos= dict()\n",
    "for v in G_air.nodes:\n",
    "    long = G_air.nodes[v]['long']\n",
    "    lat = G_air.nodes[v]['lat']\n",
    "    pos[v] = ((long + 90) * math.cos(2 * math.pi * lat / 360), lat)"
   ]
  },
  {
   "cell_type": "code",
   "execution_count": null,
   "metadata": {},
   "outputs": [],
   "source": [
    "fig = plt.figure(figsize= (15,15))\n",
    "ax = plt.subplot(1, 1, 1)\n",
    "max_weight= max([G_air.edges[e]['count'] for e in G_air.edges])\n",
    "nx.draw_networkx_nodes(G_air, pos= pos, node_color= '#7f7fff' , node_size= 20)\n",
    "for e in G_air.edges:\n",
    "    alpha= G_air.edges[e]['count'] / max_weight\n",
    "    nx.draw_networkx_edges( \n",
    "        G_air, pos=pos, edgelist=[e], edge_color= '#666666', alpha= alpha, arrows=False)\n",
    "ax.set_aspect(1)"
   ]
  },
  {
   "cell_type": "markdown",
   "metadata": {},
   "source": [
    "#### Haversine formula- distance detection of each edge"
   ]
  },
  {
   "cell_type": "code",
   "execution_count": null,
   "metadata": {},
   "outputs": [],
   "source": [
    "def haversine (q, p):\n",
    "    '''Calculate the distance between two (lat, long) points'''\n",
    "    R_km = 6371\n",
    "    theta1= q[1] * math.pi / 180\n",
    "    phi1 = q[0] * math.pi / 180\n",
    "    theta2 = p[1] * math.pi / 180\n",
    "    phi2 = p[0] * math.pi / 180\n",
    "    dphi = phi2 - phi1\n",
    "    dtheta= theta2 - theta1\n",
    "    a = (math.sin(dphi/2) * math.sin(dphi/2) + (math.cos(phi1) * math.cos(phi2) * math.sin(dtheta/2)* math.sin(dtheta/2)))\n",
    "    c = 2* math.atan2(math.sqrt(a), math.sqrt(1-a))\n",
    "    d = R_km * c\n",
    "    return d"
   ]
  },
  {
   "cell_type": "code",
   "execution_count": null,
   "metadata": {},
   "outputs": [],
   "source": [
    "for v, w in G_air.edges:\n",
    "    p_v = (G_air.nodes[v]['lat'], G_air.nodes[v]['long'])\n",
    "    p_w = (G_air.nodes[w]['lat'], G_air.nodes[w]['long'])\n",
    "    G_air.edges[v, w]['distance'] = haversine(p_v, p_w)"
   ]
  },
  {
   "cell_type": "code",
   "execution_count": null,
   "metadata": {},
   "outputs": [],
   "source": [
    "# now need mass of each node, according to application values can be used to show the capacity or population\n",
    "degree = G_air.degree(weight= 'count')\n",
    "nx.set_node_attributes(G_air, dict(degree), 'degree')"
   ]
  },
  {
   "cell_type": "code",
   "execution_count": null,
   "metadata": {},
   "outputs": [],
   "source": [
    "g_list = []\n",
    "for v, w in G_air.edges():\n",
    "    if v >=w:\n",
    "        continue\n",
    "    try:\n",
    "        count = G_air.edges[v, w]['count']\n",
    "    except KeyError:\n",
    "        g_list.append (0)\n",
    "        continue\n",
    "    distance = G_air.edges[v ,w]['distance']\n",
    "    v_degree = G_air.nodes[v]['degree']\n",
    "    w_degree = G_air.nodes[w]['degree']\n",
    "    g_list.append(count * distance ** 2 / v_degree / w_degree)"
   ]
  },
  {
   "cell_type": "code",
   "execution_count": null,
   "metadata": {},
   "outputs": [],
   "source": [
    "# value that stored in g_list are combined into a single constant multiplier using the geometric maen\n",
    "g = 10 ** (sum( [math.log10(g) for g in g_list]) / len(g_list))"
   ]
  },
  {
   "cell_type": "code",
   "execution_count": null,
   "metadata": {},
   "outputs": [],
   "source": [
    "# now g multipleir can be used to predict how mach traffic should cross each based solely on the traffic through the endpoints and their distance form each other.\n",
    "# residual: the difference between the expected traffic and the actual traffic.\n",
    "for v, w in G_air.edges:\n",
    "    if v == w:\n",
    "        continue\n",
    "    count = G_air.edges[v, w]['count']\n",
    "    # Calculate ecpected weight\n",
    "    expected = ( \n",
    "        g * G_air.nodes[v]['degree']\n",
    "        * G_air.nodes[w]['degree']\n",
    "        / G_air.edges[v,w]['distance'] ** 2\n",
    "    )\n",
    "    G_air.edges[v, w]['expected']= expected\n",
    "    # Calculate residual\n",
    "    G_air.edges[v, w]['residual'] = count - expected\n",
    "    G_air.edges[v, w]['log_residual'] = math.log10(count) - math.log10(expected)"
   ]
  },
  {
   "cell_type": "markdown",
   "metadata": {},
   "source": [
    "#### Residual network"
   ]
  },
  {
   "cell_type": "code",
   "execution_count": null,
   "metadata": {},
   "outputs": [],
   "source": [
    "residual_edges= [e for e in G_air.edges if G_air.edges[e]['log_residual'] > 0]\n",
    "G_residual = G_air.edge_subgraph(residual_edges)\n",
    "# Keep the largest connected component\n",
    "G_residual = nx.subgraph(G_residual, max(nx.connected_components(G_residual), key= len))"
   ]
  },
  {
   "cell_type": "code",
   "execution_count": null,
   "metadata": {},
   "outputs": [],
   "source": [
    "fig = plt.figure (figsize= (15,15))\n",
    "ax = plt.subplot (1, 1, 1)\n",
    "max_weight = max ([G_residual.edges[e]['log_residual'] for e in G_residual.edges])\n",
    "nx.draw_networkx_nodes(G_residual, pos=pos, node_color= '#7f7fff',node_size = 20)\n",
    "for e in G_residual.edges:\n",
    "    alpha = G_residual.edges[e]['log_residual'] / max_weight\n",
    "    nx.draw_networkx_edges( \n",
    "        G_residual, pos=pos, edgelist=[e], edge_color = '#7f7fff', alpha=alpha, arrows = False\n",
    "    )\n",
    "ax.set_aspect(1)"
   ]
  },
  {
   "cell_type": "code",
   "execution_count": null,
   "metadata": {},
   "outputs": [],
   "source": [
    "# Compare the average clustering of original aie transport network and residual one\n",
    "nx.average_clustering(G_air)"
   ]
  },
  {
   "cell_type": "code",
   "execution_count": null,
   "metadata": {},
   "outputs": [],
   "source": [
    "nx.average_clustering(G_residual)"
   ]
  },
  {
   "cell_type": "markdown",
   "metadata": {},
   "source": [
    "## Network in time"
   ]
  },
  {
   "cell_type": "markdown",
   "metadata": {},
   "source": [
    "### Layerd networks"
   ]
  },
  {
   "cell_type": "code",
   "execution_count": null,
   "metadata": {},
   "outputs": [],
   "source": [
    "data_dirr= r'C:\\Users/ah.roudsaz/Desktop/wiki.txt'\n",
    "G_wiki = nx.read_edgelist( \n",
    "    data_dirr, data= [('begin', int), ('end', int)],\n",
    "     create_using= nx.MultiGraph)"
   ]
  },
  {
   "cell_type": "code",
   "execution_count": null,
   "metadata": {},
   "outputs": [],
   "source": [
    "len(G_wiki)"
   ]
  },
  {
   "cell_type": "code",
   "execution_count": null,
   "metadata": {},
   "outputs": [],
   "source": [
    "# creating snapshots\n",
    "def get_snaoshot(G, date):\n",
    "    '''Convert date to integer timestamp'''\n",
    "    dt = dat.strftime(date, '%Y-%m-%d',__format=str)\n",
    "    timestamp = time.mktime(dt.timetuple())\n",
    "    # Find edges that exsisted during timestamp\n",
    "    snapshot_edges = []\n",
    "    for e in G.edges:\n",
    "        if G.edges[e]['begin'] <= timestamp and G_wiki.edges[e]['end'] >= timestamp:\n",
    "            snapshot_edges.append(e)\n",
    "    # Create network from edges\n",
    "    return nx.Graph(G.edge_subgraph(snapshot_edges))"
   ]
  },
  {
   "cell_type": "code",
   "execution_count": null,
   "metadata": {},
   "outputs": [],
   "source": [
    "# specify the dates to visualize\n",
    "dates = [ \n",
    "    '2001-10-01'\n",
    "    '2001-10-08'\n",
    "    '2001-10-15'\n",
    "    '2001-10-22'\n",
    "    '2001-10-29'\n",
    "    '2001-11-06'\n",
    "]"
   ]
  },
  {
   "cell_type": "code",
   "execution_count": null,
   "metadata": {},
   "outputs": [],
   "source": [
    "# Create a figure\n",
    "plt.figure(figsize= (10,15))\n",
    "# Visualize the networkfor each date\n",
    "pos = None\n",
    "for i, date in enumerate (reversed(dates)):\n",
    "    # Get a snapshot if network\n",
    "    G = get_snaoshot(G_wiki, date)\n",
    "    # Creat a subplot\n",
    "    plt.subplot(3, 2, 6 - i)\n",
    "    plt.title(date)\n",
    "    # Calculate the layout\n",
    "    pos= nx.spring_layout(G, pos=pos, k=0.09)\n",
    "    # Visualize\n",
    "    nx.draw_networkx( \n",
    "        G, pos=pos, alpha= 0.5, edge_color = '#333333', node_size= 0,\n",
    "        with_labels = False\n",
    "    )"
   ]
  },
  {
   "cell_type": "markdown",
   "metadata": {},
   "source": [
    "### evolution"
   ]
  },
  {
   "cell_type": "code",
   "execution_count": null,
   "metadata": {},
   "outputs": [],
   "source": [
    "year = 2001\n",
    "month = 10\n",
    "clustering = []\n",
    "for i in range (24):\n",
    "    date = '{}-{}-01'.format(year, month)\n",
    "    G= get_snaoshot(G_wiki, date)\n",
    "    clustering.append(nx.average_clustering(G))\n",
    "    # Update month and year\n",
    "    month += 1\n",
    "    if month > 12:\n",
    "        month -= 12\n",
    "        year +=1"
   ]
  },
  {
   "cell_type": "code",
   "execution_count": null,
   "metadata": {},
   "outputs": [],
   "source": [
    "# Create figure\n",
    "plt.figure(figsize= (7.5,4))\n",
    "ax = plt.subplot(1, 1, 1)\n",
    "for spine in ax.spines.values():\n",
    "    spine.set_visible(True)\n",
    "# Plot clusterinh over time\n",
    "plt.plot (clustering)\n",
    "# Add labels and ticks\n",
    "plt.ylabel ('Average Clustering')\n",
    "plt.xticks( \n",
    "    [0, 6, 12, 18, 24], ['10/2001','4/2002','10/2002','4/2003','10/2003']\n",
    ")\n",
    "plt.tight_layout()"
   ]
  },
  {
   "cell_type": "markdown",
   "metadata": {},
   "source": [
    "## Visualizing"
   ]
  },
  {
   "cell_type": "markdown",
   "metadata": {},
   "source": [
    "### Circular layout"
   ]
  },
  {
   "cell_type": "code",
   "execution_count": null,
   "metadata": {},
   "outputs": [],
   "source": [
    "G= nx.karate_club_graph()\n",
    "nx.draw_networkx(G, pos= nx.circular_layout(G))"
   ]
  },
  {
   "cell_type": "code",
   "execution_count": null,
   "metadata": {},
   "outputs": [],
   "source": [
    "def community_net (G_in):\n",
    "    G_out = nx.Graph()\n",
    "    node_color=[]\n",
    "    node_community = {}\n",
    "    communities = nxcom.greedy_modularity_communities(G_in)\n",
    "    for i, com in enumerate(communities):\n",
    "        for v in com:\n",
    "            G_out.add_node(v)\n",
    "            node_color.append(get_color(i))\n",
    "            node_community[v]= i\n",
    "    G_out.add_edges_from(G_in.edges())\n",
    "    return node_color, node_community, G_out"
   ]
  },
  {
   "cell_type": "code",
   "execution_count": null,
   "metadata": {},
   "outputs": [],
   "source": [
    "node_color, node_community, G_com = community_net(G)\n",
    "nx.draw_networkx(G_com, pos= nx.circular_layout(G_com), node_color= node_color)"
   ]
  },
  {
   "cell_type": "markdown",
   "metadata": {},
   "source": [
    "### Shell layout"
   ]
  },
  {
   "cell_type": "code",
   "execution_count": null,
   "metadata": {},
   "outputs": [],
   "source": [
    "degrees = dict(G_com.degree())\n",
    "labels = sorted(degrees.keys(), key = lambda x: degrees[x], reverse = True)\n",
    "nlist = []\n",
    "i, k= 0, 6\n",
    "while i < len(labels):\n",
    "    shell_labels = labels[i:i+k]\n",
    "    ordered_labels = sorted(shell_labels, key = lambda x: node_community[x])\n",
    "    nlist.append(ordered_labels)\n",
    "    i += k\n",
    "    k += 12\n",
    "pos = nx.shell_layout(G_com, nlist=nlist)\n",
    "cm = plt.get_cmap('cool')\n",
    "nx.draw_networkx(G_com, pos, alpha=1, node_color=node_color, with_labels=True)"
   ]
  },
  {
   "cell_type": "markdown",
   "metadata": {},
   "source": [
    "### forced-directed layout"
   ]
  },
  {
   "cell_type": "code",
   "execution_count": null,
   "metadata": {},
   "outputs": [],
   "source": []
  },
  {
   "cell_type": "markdown",
   "metadata": {},
   "source": [
    "### Null models"
   ]
  },
  {
   "cell_type": "code",
   "execution_count": null,
   "metadata": {},
   "outputs": [],
   "source": [
    "def residual_net (G):\n",
    "    G_residual= nx.Graph(G)\n",
    "    # Calculate weighted degrees\n",
    "    degrees = dict((v, 0) for v in G_residual.nodes)\n",
    "    for e in G_residual.edges:\n",
    "        v ,w= e\n",
    "        degrees[v] += G_residual.edges[e]['count']\n",
    "        degrees[w] += G_residual.edges[e]['count']\n",
    "    # Claculate total edge in network\n",
    "    M = sum([G_residual.edges[e]['count'] for e in G_residual.edges])\n",
    "    # Find residual weight foe each node pair\n",
    "    for v in G_residual.nodes:\n",
    "        for w in G_residual.nodes:\n",
    "            dv= degrees[v]\n",
    "            dw = degrees[w]\n",
    "            # only count each once\n",
    "            if v>= w:\n",
    "                continue\n",
    "            # Expected fraction of weights associated with each endpoint\n",
    "            # Factor of two adjusts normalization for excuding v >=w\n",
    "            expected = (dv / M / 2) * (dw / M / 2) *2 *M\n",
    "            if expected == 0:\n",
    "                continue\n",
    "            try:\n",
    "                count = G_residual.edges[v , w]['count']\n",
    "                log_residual = math.log10(count) - math.log10(expected)\n",
    "                G_residual.edges[v,w]['log_residual'] = log_residual\n",
    "            except KeyError:\n",
    "                continue\n",
    "    return G_residual"
   ]
  },
  {
   "cell_type": "code",
   "execution_count": null,
   "metadata": {},
   "outputs": [],
   "source": [
    "# generate residual network\n",
    "G_residual= residual_net (G_frank)"
   ]
  },
  {
   "cell_type": "code",
   "execution_count": null,
   "metadata": {},
   "outputs": [],
   "source": [
    "# Find edges with residuals above a threshold\n",
    "threshold = 3.2\n",
    "edges = [ \n",
    "    (v,w) for v,w,d in G_residual.edges(data=True)\n",
    "    if d['log_residual'] > threshold\n",
    "]\n",
    "# Create a network with only those edges\n",
    "G_threshold = G_residual.edge_subgraph(edges)\n",
    "# Find largest connected component\n",
    "G_giant = G_threshold.subgragh(max(nx.connected_components(G_threshold), key=len))"
   ]
  },
  {
   "cell_type": "code",
   "execution_count": null,
   "metadata": {},
   "outputs": [],
   "source": [
    "# Find communities\n",
    "G = G_giant\n",
    "node_color , node_community, G = community_net(G)\n",
    "pos = nx.circular_layout(G)\n",
    "nx.draw_networkx( \n",
    "    G, pos, node_size= 100, node_color= node_color, edge_color= '#999999', with_labels= False\n",
    ")"
   ]
  },
  {
   "cell_type": "code",
   "execution_count": null,
   "metadata": {},
   "outputs": [],
   "source": [
    "plt.figure(figsize= (15 ,15))\n",
    "pos= nx.spring_layout(G, pos)\n",
    "nx.draw_networkx( \n",
    "    G, pos, node_size= 0, edge_color= '#999999', with_labels=True\n",
    ")\n",
    "# Add margin for labels\n",
    "plt.xlim([-1.1,1.1])"
   ]
  }
 ],
 "metadata": {
  "interpreter": {
   "hash": "5b6dbfc68184f998ca3ee3e5349d365e100780b212775c518b5644fdf1d4ec58"
  },
  "kernelspec": {
   "display_name": "Python 3.10.2 64-bit",
   "language": "python",
   "name": "python3"
  },
  "language_info": {
   "codemirror_mode": {
    "name": "ipython",
    "version": 3
   },
   "file_extension": ".py",
   "mimetype": "text/x-python",
   "name": "python",
   "nbconvert_exporter": "python",
   "pygments_lexer": "ipython3",
   "version": "3.10.2"
  },
  "orig_nbformat": 4
 },
 "nbformat": 4,
 "nbformat_minor": 2
}
